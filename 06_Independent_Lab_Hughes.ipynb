{
 "cells": [
  {
   "cell_type": "markdown",
   "id": "96772ff6-b96a-4969-ae62-aadf12ba1348",
   "metadata": {},
   "source": [
    "Independent Lab: Student Management "
   ]
  },
  {
   "cell_type": "markdown",
   "id": "7a884e99-18fc-4670-94ec-b65eb40401ec",
   "metadata": {},
   "source": [
    "Lewis Hughes"
   ]
  },
  {
   "cell_type": "markdown",
   "id": "740997d2-e894-44a1-b29e-7ac26e456613",
   "metadata": {},
   "source": [
    "BGEN 632"
   ]
  },
  {
   "cell_type": "markdown",
   "id": "1c1da9f4-776e-41e5-a9a9-c44ddaf7337c",
   "metadata": {},
   "source": [
    "In this program I will be assuming the role of an application development organization. The goal is to develop a code that has Menu Navigation, Student Information Query, Query GPA Metrics, and Academic Violations while also relying on lists to store student information and store academic violations."
   ]
  },
  {
   "cell_type": "code",
   "execution_count": 8,
   "id": "bd0722fa-32c3-4b76-93b6-a3037e5c7006",
   "metadata": {},
   "outputs": [],
   "source": [
    "#6 Lists\n",
    "first_names = [\"Carmen\", \"Sydney\", \"Neil\", \"Marcus\"]\n",
    "last_names = [\"Berzatto\", \"Adamu\", \"Fak\", \"Brooks\"]\n",
    "majors = [\"Cullinary Arts\",\"Hospitality\",\"Theater\",\"Business\"]\n",
    "gpas = [3.2, 2.5, 2.8, 3.0]\n",
    "violations = [None, None, None, None] #I assumed no violations because none were stated\n",
    "violation_options = [\n",
    "    \"copying homework\",\n",
    "    \"cheating on exam\",\n",
    "    \"plagiarism\",\n",
    "    \"cheating on quiz\",\n",
    "    \"writing paper for another student\"\n",
    "]"
   ]
  },
  {
   "cell_type": "code",
   "execution_count": 11,
   "id": "ff36c16d-27c9-4cac-ba7e-e8e7395a2741",
   "metadata": {},
   "outputs": [],
   "source": [
    "#Functions for the Menu\n",
    "\n",
    "#Student Information Query \n",
    "def query_students():\n",
    "    print(\"\\n--- Student Information ---\")\n",
    "    for i in range(len(first_names)):\n",
    "        print(f\"{i+1}. {first_names[i]} {last_names[i]}, Major: {majors[i]}, GPA: {gpas[i]}, Violation: {violations[i] or 'None'}\")\n",
    "\n",
    "#GPA Metrics\n",
    "def query_gpa_metrics():\n",
    "    print(\"\\n--- GPA Metrics ---\")\n",
    "    max_gpa = max(gpas)\n",
    "    min_gpa = min(gpas)\n",
    "    avg_gpa = sum(gpas) / len(gpas)\n",
    "    print(f\"Max GPA: {max_gpa}\")\n",
    "    print(f\"Min GPA: {min_gpa}\")\n",
    "    print(f\"Average GPA: {avg_gpa:.2f}\")\n",
    "\n",
    "#Add Student \n",
    "def add_student():\n",
    "    print(\"\\n--- Add New Student ---\")\n",
    "    first = input(\"Enter first name: \")\n",
    "    last = input(\"Enter last name: \")\n",
    "    major = input(\"Enter major: \")\n",
    "    while True:\n",
    "        try:\n",
    "            gpa = float(input(\"Enter GPA (0.0 - 4.0): \"))\n",
    "            if 0.0 <= gpa <= 4.0:\n",
    "                break\n",
    "            else:\n",
    "                print(\"GPA must be between 0.0 and 4.0.\")\n",
    "        except ValueError:\n",
    "            print(\"Invalid GPA. Please enter a number.\")\n",
    "    first_names.append(first)\n",
    "    last_names.append(last)\n",
    "    majors.append(major)\n",
    "    gpas.append(gpa)\n",
    "    violations.append(None)\n",
    "    print(f\"{first} {last} added successfully.\")\n",
    "\n",
    "#Assign a viloation\n",
    "def assign_violation():\n",
    "    print(\"\\n--- Assign Academic Violation ---\")\n",
    "    for i, name in enumerate(zip(first_names, last_names)):\n",
    "        print(f\"{i+1}. {name[0]} {name[1]}\")\n",
    "    try:\n",
    "        student_idx = int(input(\"Select a student by number: \")) - 1\n",
    "        if 0 <= student_idx < len(first_names):\n",
    "            print(\"\\nAvailable Violations:\")\n",
    "            for i, v in enumerate(violation_options):\n",
    "                print(f\"{i+1}. {v}\")\n",
    "            violation_idx = int(input(\"Select a violation by number: \")) - 1\n",
    "            if 0 <= violation_idx < len(violation_options):\n",
    "                violations[student_idx] = violation_options[violation_idx]\n",
    "                print(f\"Violation assigned to {first_names[student_idx]} {last_names[student_idx]}.\")\n",
    "            else:\n",
    "                print(\"Invalid violation selection.\")\n",
    "        else:\n",
    "            print(\"Invalid student selection.\")\n",
    "    except ValueError:\n",
    "        print(\"Invalid input. Please enter a number.\")"
   ]
  },
  {
   "cell_type": "markdown",
   "id": "e47ef590-d3d5-4b11-ab18-4f0d1a6790a9",
   "metadata": {},
   "source": [
    "Below is where I will build the main interactive menu relying on the lists and functions above."
   ]
  },
  {
   "cell_type": "code",
   "execution_count": 10,
   "id": "11f86398-5519-4ee9-a52c-02b29e4f0ded",
   "metadata": {},
   "outputs": [
    {
     "name": "stdout",
     "output_type": "stream",
     "text": [
      "\n",
      "===== Main Menu =====\n",
      "1. Student Information Query\n",
      "2. Student Information Entry\n",
      "3. Query GPA Metrics\n",
      "4. Academic Violations\n",
      "5. Quit Program\n",
      "\n"
     ]
    },
    {
     "name": "stdin",
     "output_type": "stream",
     "text": [
      "Enter your choice (1-5):  3\n"
     ]
    },
    {
     "name": "stdout",
     "output_type": "stream",
     "text": [
      "\n",
      "--- GPA Metrics ---\n",
      "Max GPA: 3.2\n",
      "Min GPA: 0.0\n",
      "Average GPA: 2.30\n",
      "\n",
      "===== Main Menu =====\n",
      "1. Student Information Query\n",
      "2. Student Information Entry\n",
      "3. Query GPA Metrics\n",
      "4. Academic Violations\n",
      "5. Quit Program\n",
      "\n"
     ]
    },
    {
     "name": "stdin",
     "output_type": "stream",
     "text": [
      "Enter your choice (1-5):  2\n"
     ]
    },
    {
     "name": "stdout",
     "output_type": "stream",
     "text": [
      "\n",
      "--- Add New Student ---\n"
     ]
    },
    {
     "name": "stdin",
     "output_type": "stream",
     "text": [
      "Enter first name:  Lewis\n",
      "Enter last name:  Hughes\n",
      "Enter major:  Cullinary Arts\n",
      "Enter GPA (0.0 - 4.0):  0.5\n"
     ]
    },
    {
     "name": "stdout",
     "output_type": "stream",
     "text": [
      "Lewis Hughes added successfully.\n",
      "\n",
      "===== Main Menu =====\n",
      "1. Student Information Query\n",
      "2. Student Information Entry\n",
      "3. Query GPA Metrics\n",
      "4. Academic Violations\n",
      "5. Quit Program\n",
      "\n"
     ]
    },
    {
     "name": "stdin",
     "output_type": "stream",
     "text": [
      "Enter your choice (1-5):  2\n"
     ]
    },
    {
     "name": "stdout",
     "output_type": "stream",
     "text": [
      "\n",
      "--- Add New Student ---\n"
     ]
    },
    {
     "name": "stdin",
     "output_type": "stream",
     "text": [
      "Enter first name:  Mona\n",
      "Enter last name:  Lisa\n",
      "Enter major:  Hospitality\n",
      "Enter GPA (0.0 - 4.0):  3.9\n"
     ]
    },
    {
     "name": "stdout",
     "output_type": "stream",
     "text": [
      "Mona Lisa added successfully.\n",
      "\n",
      "===== Main Menu =====\n",
      "1. Student Information Query\n",
      "2. Student Information Entry\n",
      "3. Query GPA Metrics\n",
      "4. Academic Violations\n",
      "5. Quit Program\n",
      "\n"
     ]
    },
    {
     "name": "stdin",
     "output_type": "stream",
     "text": [
      "Enter your choice (1-5):  3\n"
     ]
    },
    {
     "name": "stdout",
     "output_type": "stream",
     "text": [
      "\n",
      "--- GPA Metrics ---\n",
      "Max GPA: 3.9\n",
      "Min GPA: 0.0\n",
      "Average GPA: 2.27\n",
      "\n",
      "===== Main Menu =====\n",
      "1. Student Information Query\n",
      "2. Student Information Entry\n",
      "3. Query GPA Metrics\n",
      "4. Academic Violations\n",
      "5. Quit Program\n",
      "\n"
     ]
    },
    {
     "name": "stdin",
     "output_type": "stream",
     "text": [
      "Enter your choice (1-5):  4\n"
     ]
    },
    {
     "name": "stdout",
     "output_type": "stream",
     "text": [
      "\n",
      "--- Assign Academic Violation ---\n",
      "1. Carmen Berzatto\n",
      "2. Sydney Adamu\n",
      "3. Neil Fak\n",
      "4. Marcus Brooks\n",
      "5. Lewis Hughes h\n",
      "6. Lewis Hughes\n",
      "7. Mona Lisa\n"
     ]
    },
    {
     "name": "stdin",
     "output_type": "stream",
     "text": [
      "Select a student by number:  6\n"
     ]
    },
    {
     "name": "stdout",
     "output_type": "stream",
     "text": [
      "\n",
      "Available Violations:\n",
      "1. copying homework\n",
      "2. cheating on exam\n",
      "3. plagiarism\n",
      "4. cheating on quiz\n",
      "5. writing paper for another student\n"
     ]
    },
    {
     "name": "stdin",
     "output_type": "stream",
     "text": [
      "Select a violation by number:  5\n"
     ]
    },
    {
     "name": "stdout",
     "output_type": "stream",
     "text": [
      "Violation assigned to Lewis Hughes.\n",
      "\n",
      "===== Main Menu =====\n",
      "1. Student Information Query\n",
      "2. Student Information Entry\n",
      "3. Query GPA Metrics\n",
      "4. Academic Violations\n",
      "5. Quit Program\n",
      "\n"
     ]
    },
    {
     "name": "stdin",
     "output_type": "stream",
     "text": [
      "Enter your choice (1-5):  4\n"
     ]
    },
    {
     "name": "stdout",
     "output_type": "stream",
     "text": [
      "\n",
      "--- Assign Academic Violation ---\n",
      "1. Carmen Berzatto\n",
      "2. Sydney Adamu\n",
      "3. Neil Fak\n",
      "4. Marcus Brooks\n",
      "5. Lewis Hughes h\n",
      "6. Lewis Hughes\n",
      "7. Mona Lisa\n"
     ]
    },
    {
     "name": "stdin",
     "output_type": "stream",
     "text": [
      "Select a student by number:  7\n"
     ]
    },
    {
     "name": "stdout",
     "output_type": "stream",
     "text": [
      "\n",
      "Available Violations:\n",
      "1. copying homework\n",
      "2. cheating on exam\n",
      "3. plagiarism\n",
      "4. cheating on quiz\n",
      "5. writing paper for another student\n"
     ]
    },
    {
     "name": "stdin",
     "output_type": "stream",
     "text": [
      "Select a violation by number:  1\n"
     ]
    },
    {
     "name": "stdout",
     "output_type": "stream",
     "text": [
      "Violation assigned to Mona Lisa.\n",
      "\n",
      "===== Main Menu =====\n",
      "1. Student Information Query\n",
      "2. Student Information Entry\n",
      "3. Query GPA Metrics\n",
      "4. Academic Violations\n",
      "5. Quit Program\n",
      "\n"
     ]
    },
    {
     "name": "stdin",
     "output_type": "stream",
     "text": [
      "Enter your choice (1-5):  1\n"
     ]
    },
    {
     "name": "stdout",
     "output_type": "stream",
     "text": [
      "\n",
      "--- Student Information ---\n",
      "1. Carmen Berzatto, Major: Cullinary Arts, GPA: 3.2, Violation: None\n",
      "2. Sydney Adamu, Major: Hospitality, GPA: 2.5, Violation: None\n",
      "3. Neil Fak, Major: Theater, GPA: 2.8, Violation: None\n",
      "4. Marcus Brooks, Major: Business, GPA: 3.0, Violation: None\n",
      "5. Lewis Hughes h, Major: h, GPA: 0.0, Violation: None\n",
      "6. Lewis Hughes, Major: Cullinary Arts, GPA: 0.5, Violation: writing paper for another student\n",
      "7. Mona Lisa, Major: Hospitality, GPA: 3.9, Violation: copying homework\n",
      "\n",
      "===== Main Menu =====\n",
      "1. Student Information Query\n",
      "2. Student Information Entry\n",
      "3. Query GPA Metrics\n",
      "4. Academic Violations\n",
      "5. Quit Program\n",
      "\n"
     ]
    },
    {
     "name": "stdin",
     "output_type": "stream",
     "text": [
      "Enter your choice (1-5):  5\n"
     ]
    },
    {
     "name": "stdout",
     "output_type": "stream",
     "text": [
      "Exiting program. Goodbye!\n"
     ]
    }
   ],
   "source": [
    "#### Main interactive menu\n",
    "while True:\n",
    "    print(\"\"\"\\n===== Main Menu =====\n",
    "1. Student Information Query\n",
    "2. Student Information Entry\n",
    "3. Query GPA Metrics\n",
    "4. Academic Violations\n",
    "5. Quit Program\n",
    "\"\"\")\n",
    "    choice = input(\"Enter your choice (1-5): \")\n",
    "\n",
    "    if choice == \"1\":\n",
    "        query_students()\n",
    "    elif choice == \"2\":\n",
    "        add_student()\n",
    "    elif choice == \"3\":\n",
    "        query_gpa_metrics()\n",
    "    elif choice == \"4\":\n",
    "        assign_violation()\n",
    "    elif choice == \"5\":\n",
    "        print(\"Exiting program. Goodbye!\")\n",
    "        break\n",
    "    else:\n",
    "        print(\"Invalid choice. Please select a number from 1 to 5.\")"
   ]
  },
  {
   "cell_type": "markdown",
   "id": "9f0eeec4-c9b0-482c-8f91-a615faf34376",
   "metadata": {},
   "source": [
    "Refrences"
   ]
  },
  {
   "cell_type": "markdown",
   "id": "8122cb7d-376a-485c-9177-4aaf6ad13e42",
   "metadata": {},
   "source": [
    "https://www.w3schools.com/python/python_lists.asp\n",
    "\n",
    "I used this shortcut page in addition to the tutorial to hwlp me work on my lists (I also just have this one bookmarked from another class becuase a professor recomended it)"
   ]
  },
  {
   "cell_type": "markdown",
   "id": "af12b9dd-927d-4044-8bcd-d2840f8e9539",
   "metadata": {},
   "source": [
    "https://danelite.medium.com/student-management-system-with-python-2a53b9e1b2f1\n",
    "\n",
    "I found this article that helped me develop my functions for my interactive menu"
   ]
  }
 ],
 "metadata": {
  "kernelspec": {
   "display_name": "Python 3 (ipykernel)",
   "language": "python",
   "name": "python3"
  },
  "language_info": {
   "codemirror_mode": {
    "name": "ipython",
    "version": 3
   },
   "file_extension": ".py",
   "mimetype": "text/x-python",
   "name": "python",
   "nbconvert_exporter": "python",
   "pygments_lexer": "ipython3",
   "version": "3.13.2"
  }
 },
 "nbformat": 4,
 "nbformat_minor": 5
}
