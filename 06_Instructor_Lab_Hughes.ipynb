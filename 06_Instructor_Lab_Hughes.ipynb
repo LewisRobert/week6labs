{
 "cells": [
  {
   "cell_type": "markdown",
   "id": "95bff1d6-c49a-4605-b905-90c5a930dfca",
   "metadata": {},
   "source": [
    "Instructor Led Lab \n",
    "Lewis Hughes"
   ]
  },
  {
   "cell_type": "code",
   "execution_count": 7,
   "id": "005143e4-04e6-4dce-9125-8658d3b6aa4e",
   "metadata": {},
   "outputs": [],
   "source": [
    "import random as random # Importing necessary packages"
   ]
  },
  {
   "cell_type": "markdown",
   "id": "3219234a-09ac-4d13-90f8-27d50ebadda6",
   "metadata": {},
   "source": [
    "Creating the necessary variables"
   ]
  },
  {
   "cell_type": "code",
   "execution_count": 20,
   "id": "fcfd5d83-a898-4bb1-a47f-dee88c8827b1",
   "metadata": {},
   "outputs": [],
   "source": [
    "fortune_responses = [\"It is certian\",\n",
    "                      \"It is decidedly so\",\"It is decidedly so\",\n",
    "                      \"That question requires greater monetary compensation\",\n",
    "                      \"Reply is hazy; try again, with more money\",\n",
    "                      \"Concentrate and ask again\",\n",
    "                      \"My reply is no\",\n",
    "                      \"Outlook is not so good\",\n",
    "                      \"Very doubtful\",\n",
    "                      \"Absoluetly ... not!\",\n",
    "                      \"It's looking good for you\",\n",
    "                      \"What did you just ask me??\"]\n",
    "question_asked = False #Keep track of questions\n",
    "service_cost = 0.0 #Keep track of cost\n",
    "\n",
    "questions = [] \n",
    "responses = []"
   ]
  },
  {
   "cell_type": "markdown",
   "id": "97f8c96f-7775-4c7c-a9e6-ad3b23d6ca18",
   "metadata": {},
   "source": [
    "Creating Nested Loop"
   ]
  },
  {
   "cell_type": "code",
   "execution_count": 2,
   "id": "23fbb5f6-8351-4f7f-bfda-64722ca737b5",
   "metadata": {},
   "outputs": [
    {
     "name": "stdout",
     "output_type": "stream",
     "text": [
      "Welcome to the all-seeing computer!\n"
     ]
    }
   ],
   "source": [
    "print(\"Welcome to the all-seeing computer!\")"
   ]
  },
  {
   "cell_type": "code",
   "execution_count": 24,
   "id": "51cbb7ee-751a-4c55-aaf8-db257c229f04",
   "metadata": {},
   "outputs": [
    {
     "name": "stdout",
     "output_type": "stream",
     "text": [
      "\n",
      "1. Ask another question\n",
      "2. Review questions and responses\n",
      "3. Complete services and pay\n",
      "\n"
     ]
    },
    {
     "name": "stdin",
     "output_type": "stream",
     "text": [
      "Choose an option (1, 2, or 3):  1\n"
     ]
    },
    {
     "name": "stdout",
     "output_type": "stream",
     "text": [
      "\n",
      "Ask what you seek to know...\n"
     ]
    },
    {
     "name": "stdin",
     "output_type": "stream",
     "text": [
      " will I be a doctor?\n"
     ]
    },
    {
     "name": "stdout",
     "output_type": "stream",
     "text": [
      "Outlook is not so good\n",
      "\n",
      "1. Ask another question\n",
      "2. Review questions and responses\n",
      "3. Complete services and pay\n",
      "\n"
     ]
    },
    {
     "name": "stdin",
     "output_type": "stream",
     "text": [
      "Choose an option (1, 2, or 3):  1\n"
     ]
    },
    {
     "name": "stdout",
     "output_type": "stream",
     "text": [
      "\n",
      "Ask what you seek to know...\n"
     ]
    },
    {
     "name": "stdin",
     "output_type": "stream",
     "text": [
      " will the cowboys win the super bowl?\n"
     ]
    },
    {
     "name": "stdout",
     "output_type": "stream",
     "text": [
      "It is decidedly so\n",
      "\n",
      "1. Ask another question\n",
      "2. Review questions and responses\n",
      "3. Complete services and pay\n",
      "\n"
     ]
    },
    {
     "name": "stdin",
     "output_type": "stream",
     "text": [
      "Choose an option (1, 2, or 3):  1\n"
     ]
    },
    {
     "name": "stdout",
     "output_type": "stream",
     "text": [
      "\n",
      "Ask what you seek to know...\n"
     ]
    },
    {
     "name": "stdin",
     "output_type": "stream",
     "text": [
      " will I get marrried?\n"
     ]
    },
    {
     "name": "stdout",
     "output_type": "stream",
     "text": [
      "Absoluetly ... not!\n",
      "\n",
      "1. Ask another question\n",
      "2. Review questions and responses\n",
      "3. Complete services and pay\n",
      "\n"
     ]
    },
    {
     "name": "stdin",
     "output_type": "stream",
     "text": [
      "Choose an option (1, 2, or 3):  1\n"
     ]
    },
    {
     "name": "stdout",
     "output_type": "stream",
     "text": [
      "\n",
      "Ask what you seek to know...\n"
     ]
    },
    {
     "name": "stdin",
     "output_type": "stream",
     "text": [
      " will I move to Texas?\n"
     ]
    },
    {
     "name": "stdout",
     "output_type": "stream",
     "text": [
      "What did you just ask me??\n",
      "\n",
      "1. Ask another question\n",
      "2. Review questions and responses\n",
      "3. Complete services and pay\n",
      "\n"
     ]
    },
    {
     "name": "stdin",
     "output_type": "stream",
     "text": [
      "Choose an option (1, 2, or 3):  2\n"
     ]
    },
    {
     "name": "stdout",
     "output_type": "stream",
     "text": [
      "\n",
      "Question: \"will i be a doctor?\"\n",
      "Response: \"t\"\n",
      "\n",
      "Question: \"will I be a doctor?\"\n",
      "Response: \"Concentrate and ask again\"\n",
      "\n",
      "Question: \"will I be a doctor?\"\n",
      "Response: \"Outlook is not so good\"\n",
      "\n",
      "Question: \"will the cowboys win the super bowl?\"\n",
      "Response: \"It is decidedly so\"\n",
      "\n",
      "Question: \"will I get marrried?\"\n",
      "Response: \"Absoluetly ... not!\"\n",
      "\n",
      "Question: \"will I move to Texas?\"\n",
      "Response: \"What did you just ask me??\"\n",
      "\n",
      "\n",
      "1. Ask another question\n",
      "2. Review questions and responses\n",
      "3. Complete services and pay\n",
      "\n"
     ]
    },
    {
     "name": "stdin",
     "output_type": "stream",
     "text": [
      "Choose an option (1, 2, or 3):  3\n"
     ]
    },
    {
     "name": "stdout",
     "output_type": "stream",
     "text": [
      "\n",
      "Thank you for visiting the all-seeing computer.\n",
      "\n",
      "You asked 6 questions.\n",
      "You owe $180.00 for today's services.\n"
     ]
    }
   ],
   "source": [
    "while True:\n",
    "    end_service = False\n",
    "\n",
    "    menu_prompt = \"1. Ask a question\" if not question_asked else \"1. Ask another question\"\n",
    "    print(f\"\\n{menu_prompt}\")\n",
    "    print(\"2. Review questions and responses\")\n",
    "    print(\"3. Complete services and pay\\n\")\n",
    "\n",
    "    selection = input(\"Choose an option (1, 2, or 3): \")\n",
    "\n",
    "    if selection == \"1\":\n",
    "        print(\"\\nAsk what you seek to know...\")\n",
    "        user_question = input()\n",
    "        questions.append(user_question)\n",
    "        question_asked = True\n",
    "\n",
    "        response = random.choice(fortune_responses)\n",
    "        responses.append(response)\n",
    "        print(response)\n",
    "\n",
    "        service_cost += 30.00\n",
    "\n",
    "    elif selection == \"2\":\n",
    "        if not questions:\n",
    "            print(\"\\nNo questions have been asked yet.\")\n",
    "        else:\n",
    "            print()\n",
    "            for q, a in zip(questions, responses):\n",
    "                print(f'Question: \"{q}\"\\nResponse: \"{a}\"\\n')\n",
    "\n",
    "    elif selection == \"3\":\n",
    "        end_service = True\n",
    "        print(\"\\nThank you for visiting the all-seeing computer.\")\n",
    "        print(f\"\\nYou asked {len(questions)} question{'s' if len(questions) != 1 else ''}.\")\n",
    "        print(f\"You owe ${service_cost:.2f} for today's services.\")\n",
    "\n",
    "    else:\n",
    "        print(\"\\nInvalid selection. Please choose 1, 2, or 3.\")\n",
    "\n",
    "    if end_service:\n",
    "        break"
   ]
  },
  {
   "cell_type": "markdown",
   "id": "743245d6-a442-4f22-91ab-bda881e16967",
   "metadata": {},
   "source": [
    "Refrences: \n",
    "\n",
    "https://docs.python.org/3/tutorial/controlflow.html#while-statements\n",
    "\n",
    "I used this python page to help build and guide my while true loop \n"
   ]
  }
 ],
 "metadata": {
  "kernelspec": {
   "display_name": "Python 3 (ipykernel)",
   "language": "python",
   "name": "python3"
  },
  "language_info": {
   "codemirror_mode": {
    "name": "ipython",
    "version": 3
   },
   "file_extension": ".py",
   "mimetype": "text/x-python",
   "name": "python",
   "nbconvert_exporter": "python",
   "pygments_lexer": "ipython3",
   "version": "3.13.2"
  }
 },
 "nbformat": 4,
 "nbformat_minor": 5
}
